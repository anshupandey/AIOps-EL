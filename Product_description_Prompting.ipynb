{
  "nbformat": 4,
  "nbformat_minor": 0,
  "metadata": {
    "colab": {
      "provenance": [],
      "authorship_tag": "ABX9TyNUw9VNJvYpx4DH2XbiKF3X",
      "include_colab_link": true
    },
    "kernelspec": {
      "name": "python3",
      "display_name": "Python 3"
    },
    "language_info": {
      "name": "python"
    }
  },
  "cells": [
    {
      "cell_type": "markdown",
      "metadata": {
        "id": "view-in-github",
        "colab_type": "text"
      },
      "source": [
        "<a href=\"https://colab.research.google.com/github/anshupandey/AIOps-EL/blob/main/Product_description_Prompting.ipynb\" target=\"_parent\"><img src=\"https://colab.research.google.com/assets/colab-badge.svg\" alt=\"Open In Colab\"/></a>"
      ]
    },
    {
      "cell_type": "markdown",
      "source": [
        "# Deploying Product Description Generation App using Streamlit\n",
        "\n",
        "## Problem Statement\n",
        "### Company: InnovateTech Solutions Pvt. Ltd.\n",
        "\n",
        "**Problem:**  \n",
        "InnovateTech Solutions Pvt. Ltd. is a rapidly growing tech company that aims to launch a diverse range of innovative products. However, creating concise, engaging, and accurate product descriptions has become a bottleneck for the marketing team. The current manual process is time-consuming and often results in inconsistent descriptions that do not effectively capture the essence of the products. This inefficiency is hindering product launches and impacting customer engagement.\n",
        "\n"
      ],
      "metadata": {
        "id": "isPQ1KFN91jo"
      }
    },
    {
      "cell_type": "markdown",
      "source": [
        "## Solution Approach\n",
        "### Deploying Product Description Generation App using Streamlit\n",
        "\n",
        "To address this challenge, InnovateTech Solutions Pvt. Ltd. will deploy a Product Description Generation App using Streamlit. This app will leverage the power of AI to automatically generate product descriptions based on provided product names and brief descriptions."
      ],
      "metadata": {
        "id": "60iTZquf97bm"
      }
    },
    {
      "cell_type": "markdown",
      "source": [
        "\n",
        "\n",
        "*   LLM to be used: Gemini Flash\n",
        "*   Framework: Any python API\n",
        "*   App framework: Streamlit, Pyngrok\n",
        "\n",
        "\n"
      ],
      "metadata": {
        "id": "nBrutSM9-A7n"
      }
    },
    {
      "cell_type": "code",
      "execution_count": null,
      "metadata": {
        "id": "Yil1CHPads10"
      },
      "outputs": [],
      "source": []
    }
  ]
}