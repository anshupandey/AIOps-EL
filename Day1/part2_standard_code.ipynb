{
  "cells": [
    {
      "cell_type": "code",
      "execution_count": null,
      "id": "963a5c89",
      "metadata": {
        "id": "963a5c89"
      },
      "outputs": [],
      "source": [
        "# Import necessary libraries\n",
        "import pandas as pd\n",
        "import numpy as np\n",
        "from sklearn.model_selection import train_test_split, GridSearchCV, cross_val_score\n",
        "from sklearn.ensemble import RandomForestRegressor\n",
        "from sklearn.linear_model import LinearRegression\n",
        "from sklearn.metrics import mean_absolute_error, mean_squared_error, r2_score\n",
        "from sklearn.preprocessing import StandardScaler, OneHotEncoder\n",
        "from sklearn.compose import ColumnTransformer\n",
        "from sklearn.pipeline import Pipeline\n",
        "from sklearn.impute import SimpleImputer"
      ]
    },
    {
      "cell_type": "code",
      "execution_count": null,
      "id": "eff577c5",
      "metadata": {
        "id": "eff577c5"
      },
      "outputs": [],
      "source": [
        "# Load the dataset\n",
        "file_path = '/mnt/data/Quality of Service 5G.xlsx'\n",
        "data = pd.read_excel(file_path, sheet_name='in')"
      ]
    },
    {
      "cell_type": "code",
      "execution_count": null,
      "id": "59b4e341",
      "metadata": {
        "id": "59b4e341"
      },
      "outputs": [],
      "source": [
        "# Data preprocessing\n",
        "# Convert columns to numeric where applicable\n",
        "data['Signal_Strength'] = data['Signal_Strength'].str.replace(' dBm', '').astype(float)\n",
        "data['Latency'] = data['Latency'].str.replace(' ms', '').astype(float)\n",
        "data['Required_Bandwidth'] = data['Required_Bandwidth'].str.replace(' Mbps', '').str.replace(' Kbps', '').astype(float)\n",
        "data['Allocated_Bandwidth'] = data['Allocated_Bandwidth'].str.replace(' Mbps', '').str.replace(' Kbps', '').astype(float)\n"
      ]
    },
    {
      "cell_type": "code",
      "execution_count": null,
      "id": "4cc66385",
      "metadata": {
        "id": "4cc66385"
      },
      "outputs": [],
      "source": [
        "# Feature engineering\n",
        "data['Bandwidth_Efficiency'] = data['Allocated_Bandwidth'] / data['Required_Bandwidth']\n",
        "data['Signal_Quality_Category'] = pd.cut(data['Signal_Strength'], bins=[-100, -85, -70, 0], labels=['Weak', 'Moderate', 'Strong'])"
      ]
    },
    {
      "cell_type": "code",
      "source": [
        "# Define features and targets\n",
        "features = ['Application_Type', 'Signal_Strength', 'Required_Bandwidth', 'Allocated_Bandwidth', 'Signal_Quality_Category']\n",
        "target_latency = 'Latency'\n",
        "target_efficiency = 'Bandwidth_Efficiency'"
      ],
      "metadata": {
        "id": "p71zjPZAKC5i"
      },
      "id": "p71zjPZAKC5i",
      "execution_count": null,
      "outputs": []
    },
    {
      "cell_type": "code",
      "source": [
        "\n",
        "# Handling infinities and large values in the dataset\n",
        "data = data.replace([np.inf, -np.inf], np.nan)\n",
        "data = data.dropna(subset=['Latency', 'Bandwidth_Efficiency'])"
      ],
      "metadata": {
        "id": "FDmMpp5vKEZw"
      },
      "id": "FDmMpp5vKEZw",
      "execution_count": null,
      "outputs": []
    },
    {
      "cell_type": "code",
      "execution_count": null,
      "id": "5f6b6fa3",
      "metadata": {
        "id": "5f6b6fa3"
      },
      "outputs": [],
      "source": [
        "\n",
        "# Define target variables\n",
        "y_latency = data[target_latency]\n",
        "y_efficiency = data[target_efficiency]"
      ]
    },
    {
      "cell_type": "code",
      "execution_count": null,
      "id": "89bcafb7",
      "metadata": {
        "id": "89bcafb7"
      },
      "outputs": [],
      "source": [
        "# Train-test split\n",
        "X = data[features]\n",
        "X_train_latency, X_test_latency, y_train_latency, y_test_latency = train_test_split(X, y_latency, test_size=0.2, random_state=42)\n",
        "X_train_efficiency, X_test_efficiency, y_train_efficiency, y_test_efficiency = train_test_split(X, y_efficiency, test_size=0.2, random_state=42)"
      ]
    },
    {
      "cell_type": "code",
      "execution_count": null,
      "id": "71b4f750",
      "metadata": {
        "id": "71b4f750"
      },
      "outputs": [],
      "source": [
        "# Preprocessing pipelines\n",
        "categorical_features = ['Application_Type', 'Signal_Quality_Category']\n",
        "numerical_features = ['Signal_Strength', 'Required_Bandwidth', 'Allocated_Bandwidth']\n",
        "\n",
        "categorical_transformer = Pipeline(steps=[\n",
        "    ('imputer', SimpleImputer(strategy='most_frequent')),\n",
        "    ('onehot', OneHotEncoder(handle_unknown='ignore'))])\n",
        "\n",
        "numerical_transformer = Pipeline(steps=[\n",
        "    ('imputer', SimpleImputer(strategy='mean')),\n",
        "    ('scaler', StandardScaler())])\n",
        "\n",
        "preprocessor = ColumnTransformer(\n",
        "    transformers=[\n",
        "        ('num', numerical_transformer, numerical_features),\n",
        "        ('cat', categorical_transformer, categorical_features)])"
      ]
    },
    {
      "cell_type": "code",
      "execution_count": null,
      "id": "75237759",
      "metadata": {
        "id": "75237759"
      },
      "outputs": [],
      "source": [
        "# Model pipelines\n",
        "models = {\n",
        "    'Linear Regression': Pipeline(steps=[('preprocessor', preprocessor),\n",
        "                                         ('regressor', LinearRegression())]),\n",
        "    'Random Forest': Pipeline(steps=[('preprocessor', preprocessor),\n",
        "                                      ('regressor', RandomForestRegressor(random_state=42))])\n",
        "}"
      ]
    },
    {
      "cell_type": "code",
      "execution_count": null,
      "id": "e7823ec7",
      "metadata": {
        "id": "e7823ec7"
      },
      "outputs": [],
      "source": [
        "# Model training and evaluation\n",
        "results = {}\n",
        "for name, model in models.items():\n",
        "    print(f'Training {name} for Latency Prediction...')\n",
        "    model.fit(X_train_latency, y_train_latency)\n",
        "    y_pred_latency = model.predict(X_test_latency)\n",
        "\n",
        "    print(f'Training {name} for Bandwidth Efficiency Prediction...')\n",
        "    model.fit(X_train_efficiency, y_train_efficiency)\n",
        "    y_pred_efficiency = model.predict(X_test_efficiency)\n",
        "\n",
        "    # Store results\n",
        "    results[name] = {\n",
        "        'Latency': {\n",
        "            'MAE': mean_absolute_error(y_test_latency, y_pred_latency),\n",
        "            'RMSE': np.sqrt(mean_squared_error(y_test_latency, y_pred_latency)),\n",
        "            'R2': r2_score(y_test_latency, y_pred_latency)\n",
        "        },\n",
        "        'Efficiency': {\n",
        "            'MAE': mean_absolute_error(y_test_efficiency, y_pred_efficiency),\n",
        "            'RMSE': np.sqrt(mean_squared_error(y_test_efficiency, y_pred_efficiency)),\n",
        "            'R2': r2_score(y_test_efficiency, y_pred_efficiency)\n",
        "        }\n",
        "    }\n",
        "\n",
        "# Display results\n",
        "results"
      ]
    }
  ],
  "metadata": {
    "colab": {
      "provenance": []
    }
  },
  "nbformat": 4,
  "nbformat_minor": 5
}